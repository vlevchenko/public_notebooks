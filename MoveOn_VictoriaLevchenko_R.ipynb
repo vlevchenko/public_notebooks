{
 "cells": [
  {
   "cell_type": "markdown",
   "metadata": {},
   "source": [
    "# MoveOn in person exam\n",
    "\n",
    "## Victoria Levchenko  |  June 15, 2018\n",
    "### Outline\n",
    "##### 1 |  Sum the value of words &  identify if they are square words\n",
    "##### 2 |  Filter out non-square words & sort"
   ]
  },
  {
   "cell_type": "code",
   "execution_count": 1,
   "metadata": {},
   "outputs": [
    {
     "name": "stderr",
     "output_type": "stream",
     "text": [
      "Loading required package: tidyverse\n",
      "── Attaching packages ─────────────────────────────────────── tidyverse 1.2.1 ──\n",
      "✔ ggplot2 2.2.1     ✔ purrr   0.2.4\n",
      "✔ tibble  1.4.1     ✔ dplyr   0.7.4\n",
      "✔ tidyr   0.7.2     ✔ stringr 1.2.0\n",
      "✔ readr   1.1.1     ✔ forcats 0.2.0\n",
      "── Conflicts ────────────────────────────────────────── tidyverse_conflicts() ──\n",
      "✖ dplyr::filter() masks stats::filter()\n",
      "✖ dplyr::lag()    masks stats::lag()\n",
      "Loading required package: gtools\n"
     ]
    }
   ],
   "source": [
    "require(tidyverse)\n",
    "require(gtools) # Library for asc function\n",
    "\n",
    "start_time <- Sys.time()"
   ]
  },
  {
   "cell_type": "code",
   "execution_count": 2,
   "metadata": {},
   "outputs": [
    {
     "name": "stderr",
     "output_type": "stream",
     "text": [
      "Parsed with column specification:\n",
      "cols(\n",
      "  word = col_character()\n",
      ")\n"
     ]
    }
   ],
   "source": [
    "df = read_csv(\"data.txt\") # READ data in"
   ]
  },
  {
   "cell_type": "markdown",
   "metadata": {},
   "source": [
    "## 1 | Sum the value of words &  identify if they are square words\n",
    "##### A word is a \"square word\" if its number sum is a square number (e.g. 1, 4, 9, 16, etc.)"
   ]
  },
  {
   "cell_type": "code",
   "execution_count": 3,
   "metadata": {},
   "outputs": [
    {
     "data": {
      "text/html": [
       "<table>\n",
       "<thead><tr><th scope=col>word</th><th scope=col>word_values</th><th scope=col>word_sum</th><th scope=col>square_word_flag</th></tr></thead>\n",
       "<tbody>\n",
       "\t<tr><td>political                     </td><td>16, 15, 12, 9, 20, 9, 3, 1, 12</td><td> 97                           </td><td>no                            </td></tr>\n",
       "\t<tr><td>befitting                   </td><td>2, 5, 6, 9, 20, 20, 9, 14, 7</td><td> 92                         </td><td>no                          </td></tr>\n",
       "\t<tr><td>debt       </td><td>4, 5, 2, 20</td><td> 31        </td><td>no         </td></tr>\n",
       "\t<tr><td>worthless                       </td><td>23, 15, 18, 20, 8, 12, 5, 19, 19</td><td>139                             </td><td>no                              </td></tr>\n",
       "\t<tr><td>volcano                 </td><td>22, 15, 12, 3, 1, 14, 15</td><td> 82                     </td><td>no                      </td></tr>\n",
       "\t<tr><td>crawl           </td><td>3, 18, 1, 23, 12</td><td> 57             </td><td>no              </td></tr>\n",
       "</tbody>\n",
       "</table>\n"
      ],
      "text/latex": [
       "\\begin{tabular}{r|llll}\n",
       " word & word\\_values & word\\_sum & square\\_word\\_flag\\\\\n",
       "\\hline\n",
       "\t political                      & 16, 15, 12, 9, 20, 9, 3, 1, 12 &  97                            & no                            \\\\\n",
       "\t befitting                    & 2, 5, 6, 9, 20, 20, 9, 14, 7 &  92                          & no                          \\\\\n",
       "\t debt        & 4, 5, 2, 20 &  31         & no         \\\\\n",
       "\t worthless                        & 23, 15, 18, 20, 8, 12, 5, 19, 19 & 139                              & no                              \\\\\n",
       "\t volcano                  & 22, 15, 12, 3, 1, 14, 15 &  82                      & no                      \\\\\n",
       "\t crawl            & 3, 18, 1, 23, 12 &  57              & no              \\\\\n",
       "\\end{tabular}\n"
      ],
      "text/markdown": [
       "\n",
       "word | word_values | word_sum | square_word_flag | \n",
       "|---|---|---|---|---|---|\n",
       "| political                      | 16, 15, 12, 9, 20, 9, 3, 1, 12 |  97                            | no                             | \n",
       "| befitting                    | 2, 5, 6, 9, 20, 20, 9, 14, 7 |  92                          | no                           | \n",
       "| debt        | 4, 5, 2, 20 |  31         | no          | \n",
       "| worthless                        | 23, 15, 18, 20, 8, 12, 5, 19, 19 | 139                              | no                               | \n",
       "| volcano                  | 22, 15, 12, 3, 1, 14, 15 |  82                      | no                       | \n",
       "| crawl            | 3, 18, 1, 23, 12 |  57              | no               | \n",
       "\n",
       "\n"
      ],
      "text/plain": [
       "  word      word_values                      word_sum square_word_flag\n",
       "1 political 16, 15, 12, 9, 20, 9, 3, 1, 12    97      no              \n",
       "2 befitting 2, 5, 6, 9, 20, 20, 9, 14, 7      92      no              \n",
       "3 debt      4, 5, 2, 20                       31      no              \n",
       "4 worthless 23, 15, 18, 20, 8, 12, 5, 19, 19 139      no              \n",
       "5 volcano   22, 15, 12, 3, 1, 14, 15          82      no              \n",
       "6 crawl     3, 18, 1, 23, 12                  57      no              "
      ]
     },
     "metadata": {},
     "output_type": "display_data"
    }
   ],
   "source": [
    "df <- df %>% mutate(word_values = lapply(asc(word, simplify=FALSE), function(x) x-96), # CALC char alphabet position\n",
    "                    word_sum = lapply(word_values, sum), # SUM each word \n",
    "                    word_sum = as.integer(word_sum), # CONVERT num to int\n",
    "                    square_word_flag = ifelse(sqrt(word_sum)%%1==0, 'yes', 'no')) # GENERATE FLAG\n",
    "\n",
    "head(df)"
   ]
  },
  {
   "cell_type": "markdown",
   "metadata": {},
   "source": [
    "## 2 | Filter out non-square words & sort\n",
    "##### Square words in descending number sum order and ascending alphabetic order"
   ]
  },
  {
   "cell_type": "code",
   "execution_count": 4,
   "metadata": {},
   "outputs": [],
   "source": [
    "df <- df %>% filter(square_word_flag == 'yes') %>% # FILTER for words that are square words\n",
    "            arrange(desc(word_sum), word) # SORT "
   ]
  },
  {
   "cell_type": "code",
   "execution_count": 5,
   "metadata": {},
   "outputs": [
    {
     "data": {
      "text/html": [
       "<table>\n",
       "<thead><tr><th scope=col>word</th><th scope=col>word_values</th><th scope=col>word_sum</th><th scope=col>square_word_flag</th></tr></thead>\n",
       "<tbody>\n",
       "\t<tr><td>selective                    </td><td>19, 5, 12, 5, 3, 20, 9, 22, 5</td><td>100                          </td><td>yes                          </td></tr>\n",
       "\t<tr><td>sublime                </td><td>19, 21, 2, 12, 9, 13, 5</td><td> 81                    </td><td>yes                    </td></tr>\n",
       "\t<tr><td>chosen             </td><td>3, 8, 15, 19, 5, 14</td><td> 64                </td><td>yes                </td></tr>\n",
       "\t<tr><td>album           </td><td>1, 12, 2, 21, 13</td><td> 49             </td><td>yes             </td></tr>\n",
       "\t<tr><td>escape            </td><td>5, 19, 3, 1, 16, 5</td><td> 49               </td><td>yes               </td></tr>\n",
       "\t<tr><td>year        </td><td>25, 5, 1, 18</td><td> 49         </td><td>yes         </td></tr>\n",
       "\t<tr><td>yes      </td><td>25, 5, 19</td><td> 49      </td><td>yes      </td></tr>\n",
       "\t<tr><td>child         </td><td>3, 8, 9, 12, 4</td><td> 36           </td><td>yes           </td></tr>\n",
       "\t<tr><td>fame       </td><td>6, 1, 13, 5</td><td> 25        </td><td>yes        </td></tr>\n",
       "</tbody>\n",
       "</table>\n"
      ],
      "text/latex": [
       "\\begin{tabular}{r|llll}\n",
       " word & word\\_values & word\\_sum & square\\_word\\_flag\\\\\n",
       "\\hline\n",
       "\t selective                     & 19, 5, 12, 5, 3, 20, 9, 22, 5 & 100                           & yes                          \\\\\n",
       "\t sublime                 & 19, 21, 2, 12, 9, 13, 5 &  81                     & yes                    \\\\\n",
       "\t chosen              & 3, 8, 15, 19, 5, 14 &  64                 & yes                \\\\\n",
       "\t album            & 1, 12, 2, 21, 13 &  49              & yes             \\\\\n",
       "\t escape             & 5, 19, 3, 1, 16, 5 &  49                & yes               \\\\\n",
       "\t year         & 25, 5, 1, 18 &  49          & yes         \\\\\n",
       "\t yes       & 25, 5, 19 &  49       & yes      \\\\\n",
       "\t child          & 3, 8, 9, 12, 4 &  36            & yes           \\\\\n",
       "\t fame        & 6, 1, 13, 5 &  25         & yes        \\\\\n",
       "\\end{tabular}\n"
      ],
      "text/markdown": [
       "\n",
       "word | word_values | word_sum | square_word_flag | \n",
       "|---|---|---|---|---|---|---|---|---|\n",
       "| selective                     | 19, 5, 12, 5, 3, 20, 9, 22, 5 | 100                           | yes                           | \n",
       "| sublime                 | 19, 21, 2, 12, 9, 13, 5 |  81                     | yes                     | \n",
       "| chosen              | 3, 8, 15, 19, 5, 14 |  64                 | yes                 | \n",
       "| album            | 1, 12, 2, 21, 13 |  49              | yes              | \n",
       "| escape             | 5, 19, 3, 1, 16, 5 |  49                | yes                | \n",
       "| year         | 25, 5, 1, 18 |  49          | yes          | \n",
       "| yes       | 25, 5, 19 |  49       | yes       | \n",
       "| child          | 3, 8, 9, 12, 4 |  36            | yes            | \n",
       "| fame        | 6, 1, 13, 5 |  25         | yes         | \n",
       "\n",
       "\n"
      ],
      "text/plain": [
       "  word      word_values                   word_sum square_word_flag\n",
       "1 selective 19, 5, 12, 5, 3, 20, 9, 22, 5 100      yes             \n",
       "2 sublime   19, 21, 2, 12, 9, 13, 5        81      yes             \n",
       "3 chosen    3, 8, 15, 19, 5, 14            64      yes             \n",
       "4 album     1, 12, 2, 21, 13               49      yes             \n",
       "5 escape    5, 19, 3, 1, 16, 5             49      yes             \n",
       "6 year      25, 5, 1, 18                   49      yes             \n",
       "7 yes       25, 5, 19                      49      yes             \n",
       "8 child     3, 8, 9, 12, 4                 36      yes             \n",
       "9 fame      6, 1, 13, 5                    25      yes             "
      ]
     },
     "metadata": {},
     "output_type": "display_data"
    }
   ],
   "source": [
    "df"
   ]
  },
  {
   "cell_type": "code",
   "execution_count": 6,
   "metadata": {},
   "outputs": [
    {
     "data": {
      "text/plain": [
       "Time difference of 0.369868 secs"
      ]
     },
     "metadata": {},
     "output_type": "display_data"
    }
   ],
   "source": [
    "end_time <- Sys.time()\n",
    "end_time - start_time"
   ]
  }
 ],
 "metadata": {
  "kernelspec": {
   "display_name": "R",
   "language": "R",
   "name": "ir"
  },
  "language_info": {
   "codemirror_mode": "r",
   "file_extension": ".r",
   "mimetype": "text/x-r-source",
   "name": "R",
   "pygments_lexer": "r",
   "version": "3.4.3"
  }
 },
 "nbformat": 4,
 "nbformat_minor": 2
}
