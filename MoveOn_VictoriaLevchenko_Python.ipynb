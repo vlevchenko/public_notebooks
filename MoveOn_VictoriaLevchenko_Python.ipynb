{
 "cells": [
  {
   "cell_type": "markdown",
   "metadata": {},
   "source": [
    "# MoveOn in person exam\n",
    "\n",
    "## Victoria Levchenko  |  June 15, 2018\n",
    "### Outline\n",
    "##### 0 |  Functions\n",
    "##### 1 |  Sum the value of words &  identify if they are square words\n",
    "##### 2 |  Filter out non-square words\n",
    "##### 3 |  Sort"
   ]
  },
  {
   "cell_type": "code",
   "execution_count": 1,
   "metadata": {},
   "outputs": [],
   "source": [
    "import pandas as pd\n",
    "import string\n",
    "import math\n",
    "from timeit import default_timer as timer\n",
    "\n",
    "pd.set_option('display.max_row', 20)\n",
    "start = timer()"
   ]
  },
  {
   "cell_type": "code",
   "execution_count": 2,
   "metadata": {},
   "outputs": [],
   "source": [
    "df = pd.read_csv('data.txt', sep=\"\\n\") # READ data in"
   ]
  },
  {
   "cell_type": "markdown",
   "metadata": {},
   "source": [
    "### 0 | Functions"
   ]
  },
  {
   "cell_type": "code",
   "execution_count": 3,
   "metadata": {},
   "outputs": [],
   "source": [
    "def sum_and_square_words(temp_df, column_name):\n",
    "    \"\"\" \n",
    "    PURPOSE Calculate the sum of each string in a column & flag if the sum is a square number\n",
    "    \n",
    "    IMPORTANT Each numeric value of a character in a string is based on position in alphabet\n",
    "    \n",
    "    INPUT pandas dataframe & specified column of strings to sum\n",
    "    OUTPUT pandas dataframe\n",
    "    \n",
    "    \"\"\"\n",
    "    temp_df[column_name] = temp_df[column_name].str.lower() # CONVERT col to lowercase\n",
    "    \n",
    "    temp_df['word_sum'] = 0\n",
    "    temp_df['square_number_flag'] = ''\n",
    "    \n",
    "    index = 0\n",
    "    for word in temp_df[column_name]: # ITERATE through each row\n",
    "        \n",
    "        sum_value = 0\n",
    "        for letter in word: # ITERATE through each character in string\n",
    "            \n",
    "            sum_value+= ord(letter)-96 # CALC ASCII minus 96 (calcs alphabet order), then add to sum of string\n",
    "            \n",
    "        df.loc[index,'word_sum'] = sum_value # RECORD sum value\n",
    "\n",
    "        df.loc[index,'square_number_flag'] = 'yes' if math.sqrt(sum_value).is_integer() else 'no' # FLAG square_flag\n",
    "        index+=1\n",
    "\n",
    "    return (df)\n",
    "\n"
   ]
  },
  {
   "cell_type": "markdown",
   "metadata": {},
   "source": [
    "## 1 | Sum the value of words &  identify if they are square words\n",
    "##### A word is a \"square word\" if its number sum is a square number (e.g. 1, 4, 9, 16, etc.)"
   ]
  },
  {
   "cell_type": "code",
   "execution_count": 4,
   "metadata": {},
   "outputs": [],
   "source": [
    "df = sum_and_square_words(df, 'word')"
   ]
  },
  {
   "cell_type": "markdown",
   "metadata": {},
   "source": [
    "## 2 | Filter out non-square words"
   ]
  },
  {
   "cell_type": "code",
   "execution_count": 5,
   "metadata": {},
   "outputs": [],
   "source": [
    "df = df[df['square_number_flag'] == 'yes']"
   ]
  },
  {
   "cell_type": "markdown",
   "metadata": {},
   "source": [
    "## 3 | Sort\n",
    "##### Square words in descending number sum order and ascending alphabetic order"
   ]
  },
  {
   "cell_type": "code",
   "execution_count": 6,
   "metadata": {},
   "outputs": [
    {
     "data": {
      "text/html": [
       "<div>\n",
       "<style>\n",
       "    .dataframe thead tr:only-child th {\n",
       "        text-align: right;\n",
       "    }\n",
       "\n",
       "    .dataframe thead th {\n",
       "        text-align: left;\n",
       "    }\n",
       "\n",
       "    .dataframe tbody tr th {\n",
       "        vertical-align: top;\n",
       "    }\n",
       "</style>\n",
       "<table border=\"1\" class=\"dataframe\">\n",
       "  <thead>\n",
       "    <tr style=\"text-align: right;\">\n",
       "      <th></th>\n",
       "      <th>word</th>\n",
       "      <th>word_sum</th>\n",
       "      <th>square_number_flag</th>\n",
       "    </tr>\n",
       "  </thead>\n",
       "  <tbody>\n",
       "    <tr>\n",
       "      <th>33</th>\n",
       "      <td>selective</td>\n",
       "      <td>100</td>\n",
       "      <td>yes</td>\n",
       "    </tr>\n",
       "    <tr>\n",
       "      <th>41</th>\n",
       "      <td>sublime</td>\n",
       "      <td>81</td>\n",
       "      <td>yes</td>\n",
       "    </tr>\n",
       "    <tr>\n",
       "      <th>88</th>\n",
       "      <td>chosen</td>\n",
       "      <td>64</td>\n",
       "      <td>yes</td>\n",
       "    </tr>\n",
       "    <tr>\n",
       "      <th>36</th>\n",
       "      <td>album</td>\n",
       "      <td>49</td>\n",
       "      <td>yes</td>\n",
       "    </tr>\n",
       "    <tr>\n",
       "      <th>48</th>\n",
       "      <td>escape</td>\n",
       "      <td>49</td>\n",
       "      <td>yes</td>\n",
       "    </tr>\n",
       "    <tr>\n",
       "      <th>101</th>\n",
       "      <td>year</td>\n",
       "      <td>49</td>\n",
       "      <td>yes</td>\n",
       "    </tr>\n",
       "    <tr>\n",
       "      <th>103</th>\n",
       "      <td>yes</td>\n",
       "      <td>49</td>\n",
       "      <td>yes</td>\n",
       "    </tr>\n",
       "    <tr>\n",
       "      <th>70</th>\n",
       "      <td>child</td>\n",
       "      <td>36</td>\n",
       "      <td>yes</td>\n",
       "    </tr>\n",
       "    <tr>\n",
       "      <th>84</th>\n",
       "      <td>fame</td>\n",
       "      <td>25</td>\n",
       "      <td>yes</td>\n",
       "    </tr>\n",
       "  </tbody>\n",
       "</table>\n",
       "</div>"
      ],
      "text/plain": [
       "          word  word_sum square_number_flag\n",
       "33   selective       100                yes\n",
       "41     sublime        81                yes\n",
       "88      chosen        64                yes\n",
       "36       album        49                yes\n",
       "48      escape        49                yes\n",
       "101       year        49                yes\n",
       "103        yes        49                yes\n",
       "70       child        36                yes\n",
       "84        fame        25                yes"
      ]
     },
     "execution_count": 6,
     "metadata": {},
     "output_type": "execute_result"
    }
   ],
   "source": [
    "df.sort_values(['word_sum', 'word'], ascending = [0, 1])"
   ]
  },
  {
   "cell_type": "code",
   "execution_count": 7,
   "metadata": {},
   "outputs": [
    {
     "name": "stdout",
     "output_type": "stream",
     "text": [
      "0.16996020499937003\n"
     ]
    }
   ],
   "source": [
    "end = timer()\n",
    "print(end - start)"
   ]
  }
 ],
 "metadata": {
  "kernelspec": {
   "display_name": "Python 3",
   "language": "python",
   "name": "python3"
  },
  "language_info": {
   "codemirror_mode": {
    "name": "ipython",
    "version": 3
   },
   "file_extension": ".py",
   "mimetype": "text/x-python",
   "name": "python",
   "nbconvert_exporter": "python",
   "pygments_lexer": "ipython3",
   "version": "3.6.3"
  }
 },
 "nbformat": 4,
 "nbformat_minor": 2
}
